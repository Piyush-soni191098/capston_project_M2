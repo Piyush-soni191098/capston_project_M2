{
  "nbformat": 4,
  "nbformat_minor": 0,
  "metadata": {
    "colab": {
      "private_outputs": true,
      "provenance": [],
      "collapsed_sections": [
        "vncDsAP0Gaoa",
        "FJNUwmbgGyua",
        "w6K7xa23Elo4",
        "yQaldy8SH6Dl",
        "PH-0ReGfmX4f",
        "mDgbUHAGgjLW",
        "O_i_v8NEhb9l",
        "HhfV-JJviCcP",
        "Y3lxredqlCYt",
        "3RnN4peoiCZX",
        "x71ZqKXriCWQ",
        "7hBIi_osiCS2",
        "JlHwYmJAmNHm",
        "35m5QtbWiB9F",
        "PoPl-ycgm1ru",
        "H0kj-8xxnORC",
        "nA9Y7ga8ng1Z",
        "PBTbrJXOngz2",
        "u3PMJOP6ngxN",
        "dauF4eBmngu3",
        "bKJF3rekwFvQ",
        "MSa1f5Uengrz",
        "GF8Ens_Soomf",
        "0wOQAZs5pc--",
        "K5QZ13OEpz2H",
        "lQ7QKXXCp7Bj",
        "448CDAPjqfQr",
        "KSlN3yHqYklG",
        "t6dVpIINYklI",
        "ijmpgYnKYklI",
        "-JiQyfWJYklI",
        "EM7whBJCYoAo",
        "fge-S5ZAYoAp",
        "85gYPyotYoAp",
        "RoGjAbkUYoAp",
        "4Of9eVA-YrdM",
        "iky9q4vBYrdO",
        "F6T5p64dYrdO",
        "y-Ehk30pYrdP",
        "bamQiAODYuh1",
        "QHF8YVU7Yuh3",
        "GwzvFGzlYuh3",
        "qYpmQ266Yuh3",
        "OH-pJp9IphqM",
        "bbFf2-_FphqN",
        "_ouA3fa0phqN",
        "Seke61FWphqN",
        "PIIx-8_IphqN",
        "t27r6nlMphqO",
        "r2jJGEOYphqO",
        "b0JNsNcRphqO",
        "BZR9WyysphqO",
        "jj7wYXLtphqO",
        "eZrbJ2SmphqO",
        "rFu4xreNphqO",
        "YJ55k-q6phqO",
        "gCFgpxoyphqP",
        "OVtJsKN_phqQ",
        "lssrdh5qphqQ",
        "U2RJ9gkRphqQ",
        "1M8mcRywphqQ",
        "tgIPom80phqQ",
        "JMzcOPDDphqR",
        "x-EpHcCOp1ci",
        "X_VqEhTip1ck",
        "8zGJKyg5p1ck",
        "PVzmfK_Ep1ck",
        "n3dbpmDWp1ck",
        "ylSl6qgtp1ck",
        "ZWILFDl5p1ck",
        "M7G43BXep1ck",
        "Ag9LCva-p1cl",
        "E6MkPsBcp1cl",
        "2cELzS2fp1cl",
        "3MPXvC8up1cl",
        "NC_X3p0fY2L0",
        "UV0SzAkaZNRQ",
        "YPEH6qLeZNRQ",
        "q29F0dvdveiT",
        "EXh0U9oCveiU",
        "22aHeOlLveiV",
        "JcMwzZxoAimU",
        "8G2x9gOozGDZ",
        "gCX9965dhzqZ",
        "gIfDvo9L0UH2"
      ]
    },
    "kernelspec": {
      "name": "python3",
      "display_name": "Python 3"
    },
    "language_info": {
      "name": "python"
    }
  },
  "cells": [
    {
      "cell_type": "markdown",
      "source": [
        "# **Project Name**    -  **Hotel Booking Analysis EDA using Python**\n",
        "\n"
      ],
      "metadata": {
        "id": "vncDsAP0Gaoa"
      }
    },
    {
      "cell_type": "markdown",
      "source": [
        "# **Project Summary -**"
      ],
      "metadata": {
        "id": "FJNUwmbgGyua"
      }
    },
    {
      "cell_type": "markdown",
      "source": [
        "This project relates to hotel reservations and includes a variety of city hotels and resort hotels. There are 32 columns and a total of 119390 rows in this dataset. Data collection, data cleansing and manipulation, and EDA (experimental Data Analysis) are the three categories in which we are going to work with. The names of some of the columns, including hotel, is_canceled, lead_time, arrival_date_year, arrival_date_month, arrival_date_week_number, arrival_date_day_of_month, and stays_In_weekend_nights, have been updated as the data collection process has progressed. As we proceed, we Identify the unique value for each column, and also verify the dataset type for each column. Identify some columns with inaccurate data types and will fix themaccording to as our need. As we discover duplicate items totaling 87396, which are later discarded from the dataset, duplicate data Items must also be removed during the data cleaning phase.\n",
        "\n",
        "We must first perform data manipulation before visualizing any data from the data source. To do that, we examined each column's null value. After checking, drop the column using the 'drop' method if we find one that has a greater percentage of null values. We are so removed from the \"company\" column. When there are only a few null values, we fill those null values with the necessary values using the formula. fill()\n",
        "\n"
      ],
      "metadata": {
        "id": "F6v_1wHtG2nS"
      }
    },
    {
      "cell_type": "markdown",
      "source": [
        "# **GitHub Link -**"
      ],
      "metadata": {
        "id": "w6K7xa23Elo4"
      }
    },
    {
      "cell_type": "markdown",
      "source": [
        "Provide your GitHub Link here."
      ],
      "metadata": {
        "id": "h1o69JH3Eqqn"
      }
    },
    {
      "cell_type": "markdown",
      "source": [
        "# **Problem Statement**\n"
      ],
      "metadata": {
        "id": "yQaldy8SH6Dl"
      }
    },
    {
      "cell_type": "markdown",
      "source": [
        "**Write Problem Statement Here.**"
      ],
      "metadata": {
        "id": "DpeJGUA3kjGy"
      }
    },
    {
      "cell_type": "markdown",
      "source": [
        "#### **Define Your Business Objective?**"
      ],
      "metadata": {
        "id": "PH-0ReGfmX4f"
      }
    },
    {
      "cell_type": "markdown",
      "source": [
        "Analysis the reservation data for the city hotel and resort hotel to learn more about the various elements that influence a reservation , This is being done as a solo project"
      ],
      "metadata": {
        "id": "PhDvGCAqmjP1"
      }
    },
    {
      "cell_type": "markdown",
      "source": [
        "# **General Guidelines** : -  "
      ],
      "metadata": {
        "id": "mDgbUHAGgjLW"
      }
    },
    {
      "cell_type": "markdown",
      "source": [
        "1.   Well-structured, formatted, and commented code is required.\n",
        "2.   Exception Handling, Production Grade Code & Deployment Ready Code will be a plus. Those students will be awarded some additional credits.\n",
        "     \n",
        "     The additional credits will have advantages over other students during Star Student selection.\n",
        "       \n",
        "             [ Note: - Deployment Ready Code is defined as, the whole .ipynb notebook should be executable in one go\n",
        "                       without a single error logged. ]\n",
        "\n",
        "3.   Each and every logic should have proper comments.\n",
        "4. You may add as many number of charts you want. Make Sure for each and every chart the following format should be answered.\n",
        "        \n",
        "\n",
        "```\n",
        "# Chart visualization code\n",
        "```\n",
        "            \n",
        "\n",
        "*   Why did you pick the specific chart?\n",
        "*   What is/are the insight(s) found from the chart?\n",
        "* Will the gained insights help creating a positive business impact?\n",
        "Are there any insights that lead to negative growth? Justify with specific reason.\n",
        "\n",
        "5. You have to create at least 20 logical & meaningful charts having important insights.\n",
        "\n",
        "\n",
        "[ Hints : - Do the Vizualization in  a structured way while following \"UBM\" Rule.\n",
        "\n",
        "U - Univariate Analysis,\n",
        "\n",
        "B - Bivariate Analysis (Numerical - Categorical, Numerical - Numerical, Categorical - Categorical)\n",
        "\n",
        "M - Multivariate Analysis\n",
        " ]\n",
        "\n",
        "\n",
        "\n"
      ],
      "metadata": {
        "id": "ZrxVaUj-hHfC"
      }
    },
    {
      "cell_type": "markdown",
      "source": [
        "# ***Let's Begin !***"
      ],
      "metadata": {
        "id": "O_i_v8NEhb9l"
      }
    },
    {
      "cell_type": "markdown",
      "source": [
        "## ***1. Know Your Data***"
      ],
      "metadata": {
        "id": "HhfV-JJviCcP"
      }
    },
    {
      "cell_type": "markdown",
      "source": [
        "### Import Libraries"
      ],
      "metadata": {
        "id": "Y3lxredqlCYt"
      }
    },
    {
      "cell_type": "code",
      "source": [
        "# Import Libraries\n",
        "import numpy as np\n",
        "import pandas as pd\n",
        "import matplotlib.pyplot as plt\n",
        "import seaborn as sns"
      ],
      "metadata": {
        "id": "M8Vqi-pPk-HR"
      },
      "execution_count": null,
      "outputs": []
    },
    {
      "cell_type": "markdown",
      "source": [
        "### Dataset Loading"
      ],
      "metadata": {
        "id": "3RnN4peoiCZX"
      }
    },
    {
      "cell_type": "code",
      "source": [
        "# Load Dataset\n",
        "# first we have to mount the drive\n",
        "from google.colab import drive\n",
        "drive.mount('/content/drive')"
      ],
      "metadata": {
        "id": "4CkvbW_SlZ_R"
      },
      "execution_count": null,
      "outputs": []
    },
    {
      "cell_type": "code",
      "source": [
        "path = \"/content/drive/MyDrive/module2 project/Hotel Bookings.csv\"\n",
        "df = pd.read_csv(path)"
      ],
      "metadata": {
        "id": "i0PqA12s5B-t"
      },
      "execution_count": null,
      "outputs": []
    },
    {
      "cell_type": "markdown",
      "source": [
        "### Dataset First View"
      ],
      "metadata": {
        "id": "x71ZqKXriCWQ"
      }
    },
    {
      "cell_type": "code",
      "source": [
        "# Dataset First Look\n",
        "df"
      ],
      "metadata": {
        "id": "LWNFOSvLl09H"
      },
      "execution_count": null,
      "outputs": []
    },
    {
      "cell_type": "markdown",
      "source": [
        "### Dataset Rows & Columns count"
      ],
      "metadata": {
        "id": "7hBIi_osiCS2"
      }
    },
    {
      "cell_type": "code",
      "source": [
        "# Dataset Rows & Columns count\n",
        "print(df.index)\n",
        "print('\\n')\n",
        "print(\"These all are columns name present in the dataset \")\n",
        "print(df.columns)"
      ],
      "metadata": {
        "id": "Kllu7SJgmLij"
      },
      "execution_count": null,
      "outputs": []
    },
    {
      "cell_type": "markdown",
      "source": [
        "### Dataset Information"
      ],
      "metadata": {
        "id": "JlHwYmJAmNHm"
      }
    },
    {
      "cell_type": "code",
      "source": [
        "# Dataset Info\n",
        "df.info()"
      ],
      "metadata": {
        "id": "e9hRXRi6meOf"
      },
      "execution_count": null,
      "outputs": []
    },
    {
      "cell_type": "markdown",
      "source": [
        "#### Duplicate Values"
      ],
      "metadata": {
        "id": "35m5QtbWiB9F"
      }
    },
    {
      "cell_type": "code",
      "source": [
        "# to check all the dupliate rows\n",
        "Duplicated_rows = df[df.duplicated()].shape\n",
        "Duplicated_rows"
      ],
      "metadata": {
        "id": "H89if_J7-tLB"
      },
      "execution_count": null,
      "outputs": []
    },
    {
      "cell_type": "code",
      "source": [
        "# Dataset Duplicate Value Count\n",
        "# we can use drop methon to remove null values rows\n",
        "df.drop_duplicates(inplace = True)\n",
        "\n",
        "# Total rows = 119390 ,Duplicate rows = 31994\n",
        "unique_num_rows = df.shape[0]\n",
        "unique_num_rows"
      ],
      "metadata": {
        "id": "1sLdpKYkmox0"
      },
      "execution_count": null,
      "outputs": []
    },
    {
      "cell_type": "code",
      "source": [
        "# here is our data after removing duplicate rows\n",
        "df"
      ],
      "metadata": {
        "id": "LRXXIlEH-0wW"
      },
      "execution_count": null,
      "outputs": []
    },
    {
      "cell_type": "markdown",
      "source": [
        "#### Missing Values/Null Values"
      ],
      "metadata": {
        "id": "PoPl-ycgm1ru"
      }
    },
    {
      "cell_type": "code",
      "source": [
        "null_values = df.isnull() == True\n",
        "df.fillna(np.nan, inplace = True)\n",
        "df.head()\n",
        "# here we replace all the null values by NaN"
      ],
      "metadata": {
        "id": "yLzd1CiH_8bO"
      },
      "execution_count": null,
      "outputs": []
    },
    {
      "cell_type": "code",
      "source": [
        "# Visualizing the missing values\n",
        "null_value = df.isnull().sum().sort_values(ascending = False)\n",
        "null_value"
      ],
      "metadata": {
        "id": "3q5wnI3om9sJ"
      },
      "execution_count": null,
      "outputs": []
    },
    {
      "cell_type": "markdown",
      "source": [
        "### What did you know about your dataset?"
      ],
      "metadata": {
        "id": "H0kj-8xxnORC"
      }
    },
    {
      "cell_type": "markdown",
      "source": [
        "A single file in this dataset analysis diffrent booking details between two hotels , a city hotel and a resort hotel includes details like the data of reservation was made , the number of people staying , the number of adults , kids and babies ,and the space of parking are available , among other things . there are 32 columns and 119390 rows in the entire dataset ,also it contains some of duplicates items , such as 31994 , which we removed . Every columns have a data type according to the values t contains in this dataset such as integer , float , or a text. We calculate the unique value for each columns which represent the actual values for each columns |"
      ],
      "metadata": {
        "id": "gfoNAAC-nUe_"
      }
    },
    {
      "cell_type": "markdown",
      "source": [
        "## ***2. Understanding Your Variables***"
      ],
      "metadata": {
        "id": "nA9Y7ga8ng1Z"
      }
    },
    {
      "cell_type": "code",
      "source": [
        "# Dataset Columns\n",
        "df_columns = df.columns\n",
        "df_columns"
      ],
      "metadata": {
        "id": "j7xfkqrt5Ag5"
      },
      "execution_count": null,
      "outputs": []
    },
    {
      "cell_type": "code",
      "source": [
        "# Dataset Describe\n",
        "df.describe()"
      ],
      "metadata": {
        "id": "DnOaZdaE5Q5t"
      },
      "execution_count": null,
      "outputs": []
    },
    {
      "cell_type": "code",
      "source": [
        "df.head()"
      ],
      "metadata": {
        "id": "Ra_4Bc-dDlPl"
      },
      "execution_count": null,
      "outputs": []
    },
    {
      "cell_type": "markdown",
      "source": [
        "### Variables Description"
      ],
      "metadata": {
        "id": "PBTbrJXOngz2"
      }
    },
    {
      "cell_type": "markdown",
      "source": [
        "1.**hotel** = Name of the hotel (Resort or hotel)\n",
        "\n",
        "2.**is_canceled** = if the booking was canceled (0 or 1 )\n",
        "\n",
        "3.**lead_time** = Number of days before the actual arrival of guests\n",
        "\n",
        "4.**arrival_date_year** = year of arrival date\n",
        "\n",
        "5.**arrival_date_month** = Month of arrival date\n",
        "\n",
        "6.**arrival_date_day_of_month** = day of arrival date\n",
        "\n",
        "7.**arrival_date_week_number** = Week number of year for arrival date\n",
        "\n",
        "8.**stays_in_weekend_nights** = Number of weekend nights (Saturday or Sunday) spent at the hotel by the guest\n",
        "\n",
        "9.**stays_in_week_nights** = Number of weeknights(Monday to Friday) spent on the hotel by the guest\n",
        "\n",
        "10.**adults** = Number of adults among guest\n",
        "\n",
        "11.**children** = Number of children among guest\n",
        "\n",
        "12.**babies** = Number of babies among guest\n",
        "\n",
        "13.**meal** = Type of meal these guest booked\n",
        "\n",
        "14.**country** = The country where the guest belong to\n",
        "\n",
        "15.**market_segment** =Designation of market segment\n",
        "\n",
        "16.**distribution_channel** = Nam of booking distribution channel\n",
        "\n",
        "17.**is_repeated_guest** = If the booking was from a repeted guest (1) or (0)\n",
        "\n",
        "18.**previous_cancellations**  = Number of previous booking that were cancelled by the customer prior of the current booking\n",
        "\n",
        "19.**previous_bookings_not_canceled** = Number of privious booking not cancelled by the customer prior or to the current booking\n",
        "\n",
        "20.**reserved_room_type** = Code of room type reserved\n",
        "\n",
        "21.**assigned_room_type** = Code of room type assigned\n",
        "\n",
        "22.**booking_changes** = Number of changes made to the booking\n",
        "\n",
        "23.**deposit_type** = Type of deposit made by the guest\n",
        "\n",
        "24.**agent** = ID of travel agent who made the booking\n",
        "\n",
        "25.**company** = ID of the company that made the booking\n",
        "\n",
        "26.**days_in_waiting_list** = Number of the days the booking was on waiting list\n",
        "\n",
        "27.**customer_type** = Type of customer assuming one or four categories\n",
        "\n",
        "28.**adr** = Average Daily Rate , as defined by driving the sum of lodging transaction by the total number of staying nights  \n",
        "\n",
        "29.**required_car_parking_spaces** = Number of car parking spaces required by the customer\n",
        "\n",
        "30.**total_of_special_requests** = Number of special requests made by the customer\n",
        "\n",
        "31.**reservation_status** = Reservation status (Cancelled ,Check-Out  or No-Show)\n",
        "\n",
        "32.**reservation_status_date** = Date at which the last reservation status was uploaded\n",
        "\n",
        "\n"
      ],
      "metadata": {
        "id": "aJV4KIxSnxay"
      }
    },
    {
      "cell_type": "markdown",
      "source": [
        "### Check Unique Values for each variable."
      ],
      "metadata": {
        "id": "u3PMJOP6ngxN"
      }
    },
    {
      "cell_type": "code",
      "source": [
        "# Check Unique Values for each variable.\n",
        "df.nunique() # this will show the number of uniqe values\n",
        "print(df.apply(lambda col : col.unique())) #this will show the unique values for each columns"
      ],
      "metadata": {
        "id": "zms12Yq5n-jE"
      },
      "execution_count": null,
      "outputs": []
    },
    {
      "cell_type": "markdown",
      "source": [
        "## 3. ***Data Wrangling***"
      ],
      "metadata": {
        "id": "dauF4eBmngu3"
      }
    },
    {
      "cell_type": "markdown",
      "source": [
        "### Data Wrangling Code"
      ],
      "metadata": {
        "id": "bKJF3rekwFvQ"
      }
    },
    {
      "cell_type": "code",
      "source": [
        "# Write your code to make your dataset analysis ready.\n",
        "\n",
        "# lets check ,What is the percentage of the null values in each columns\n",
        "percentage_null_values = df.isnull().sum()/df.shape[0]*100\n",
        "percentage_null_values"
      ],
      "metadata": {
        "id": "wk-9a2fpoLcV"
      },
      "execution_count": null,
      "outputs": []
    },
    {
      "cell_type": "code",
      "source": [
        "# here we can see the compan columns have most of the values are null its better to remove this column\n",
        "df.drop(['company'],axis = 1 ,inplace = True)"
      ],
      "metadata": {
        "id": "BBi_Y9C6K_c3"
      },
      "execution_count": null,
      "outputs": []
    },
    {
      "cell_type": "code",
      "source": [
        "# now we have agent column which have nul value we can fill it by using mode of the values\n",
        "df['agent'].fillna(0,inplace = True)\n",
        "df['agent'].isnull().sum()"
      ],
      "metadata": {
        "id": "wrAEKR4AK_Z1"
      },
      "execution_count": null,
      "outputs": []
    },
    {
      "cell_type": "code",
      "source": [
        "# we have less null values in the country column , so we will replace null from other as contry name\n",
        "df['country'].fillna('others',inplace = True)\n",
        "df['country'].isnull().sum()"
      ],
      "metadata": {
        "id": "BWoytW6bK_W7"
      },
      "execution_count": null,
      "outputs": []
    },
    {
      "cell_type": "code",
      "source": [
        "# so we have cleared most of the null values from this data set lets check again the null values for the remaining data set\n",
        "df.isnull().sum()"
      ],
      "metadata": {
        "id": "CIMLjIicK_UH"
      },
      "execution_count": null,
      "outputs": []
    },
    {
      "cell_type": "code",
      "source": [
        "#showing the info of the data to check datatype\n",
        "df.info()"
      ],
      "metadata": {
        "id": "jOVknwBsK_Qy"
      },
      "execution_count": null,
      "outputs": []
    },
    {
      "cell_type": "code",
      "source": [
        "# total stays in night\n",
        "df['total_stays_in_nights'] = df['stays_in_week_nights']+ df['stays_in_weekend_nights']\n",
        "df['total_stays_in_nights']"
      ],
      "metadata": {
        "id": "z-ziqqMYK_NV"
      },
      "execution_count": null,
      "outputs": []
    },
    {
      "cell_type": "code",
      "source": [
        "# lets create a revenue column by using total_stay * adr\n",
        "df['revenue'] = df['total_stays_in_nights'] * df['adr']\n",
        "df['revenue']"
      ],
      "metadata": {
        "id": "8nqxRHDeK_KW"
      },
      "execution_count": null,
      "outputs": []
    },
    {
      "cell_type": "code",
      "source": [
        "# we can add a column of total guest coming for each booking\n",
        "df['total_guest'] = df['adults'] + df['children'] + df['babies']\n",
        "df['total_guest'].sum()"
      ],
      "metadata": {
        "id": "-XXyqCtxK_HO"
      },
      "execution_count": null,
      "outputs": []
    },
    {
      "cell_type": "code",
      "source": [
        "# same as we can create a column 'is_repeated' where we can see the guest are repeated or not\n",
        "# we can store this information as a charactoristic value for costomer can easily understand\n",
        "df['is_repeated'] = df['is_repeated_guest'].replace([0,1],['Not-Repeated','Repeated'])\n",
        "df['is_repeated']"
      ],
      "metadata": {
        "id": "jpwbZVqOkOpO"
      },
      "execution_count": null,
      "outputs": []
    },
    {
      "cell_type": "code",
      "source": [
        "# same as we can do this with 'is_cancelled' column so the coustomer can get undestand this easily\n",
        "df['is_cancelled'] = df['is_canceled'].replace([0,1],['Not-Cancelled','Cancelled'])\n",
        "df['is_cancelled']"
      ],
      "metadata": {
        "id": "t_dnj9eqkOmc"
      },
      "execution_count": null,
      "outputs": []
    },
    {
      "cell_type": "code",
      "source": [
        "# Now we will check overall revenue hotel wise\n",
        "hotel_wise_revenue = df.groupby('hotel')['revenue'].sum()\n",
        "hotel_wise_revenue"
      ],
      "metadata": {
        "id": "4N8bJGOUkOi1"
      },
      "execution_count": null,
      "outputs": []
    },
    {
      "cell_type": "code",
      "source": [
        "df[['hotel','revenue']]"
      ],
      "metadata": {
        "id": "Ab5IOitbkOfp"
      },
      "execution_count": null,
      "outputs": []
    },
    {
      "cell_type": "code",
      "source": [],
      "metadata": {
        "id": "22IOkeRHkOb9"
      },
      "execution_count": null,
      "outputs": []
    },
    {
      "cell_type": "markdown",
      "source": [
        "### What all manipulations have you done and insights you found?"
      ],
      "metadata": {
        "id": "MSa1f5Uengrz"
      }
    },
    {
      "cell_type": "markdown",
      "source": [
        "We only have done few of changes in this data set\n",
        "\n",
        "--**Columns Added**--\n",
        "\n",
        "We had seen that few changes are must requeired as a customer point of view\n",
        "\n",
        "\n",
        "A)- **Number of guests ** = We may assess the overall number of guests and income by using these column .This value is getting by the summing of total number of adults , children , and infants .\n",
        "\n",
        "B)- **Income** = ADR and total guests are multiplied to find the revenue .This column will help to examin the each hotel profitability\n",
        "\n",
        "--**Columns Deleted**--\n",
        "\n",
        "A)- **company** = As we can see in this column most of the values were null and we can say this column has almost no data ,As a result we had to remove this columns becouse it do not have any collaborate to do analyst\n",
        "\n",
        "--**Replaced Values**--\n",
        "is cancelled ,isn't cancelled and is a repeted guest . As we have seen these columns only containing the values in a binary form like 0 for yes and 1 for not . As a guest if i do not have that much knowledge then i will not understand this column . To help the customer understand this easily .\n",
        "\n",
        "--**Removed Duplicate entires and is null values**--\n",
        "\n",
        "A) Data wrangling is all about visulise the data .We have examine the data for each column's null values in order to determine that. So After checking the null values we had removed the \"company \" column becouse it has most of the values are null . When there are only few null values we fill those null values with the necessory values using .fillna() method .\n",
        "\n",
        "B) At the same time we had took a look of duplicated rows . we used drop_duplicates() method to remove those rows from the data set"
      ],
      "metadata": {
        "id": "LbyXE7I1olp8"
      }
    },
    {
      "cell_type": "markdown",
      "source": [
        "## ***4. Data Vizualization, Storytelling & Experimenting with charts : Understand the relationships between variables***"
      ],
      "metadata": {
        "id": "GF8Ens_Soomf"
      }
    },
    {
      "cell_type": "markdown",
      "source": [
        "#### Chart - 1"
      ],
      "metadata": {
        "id": "0wOQAZs5pc--"
      }
    },
    {
      "cell_type": "code",
      "source": [
        "# lets create a funtion which will give us a bar chart of the data respective with a column\n",
        "def get_count_from_column_bar(df,column_label):\n",
        "  df_grpd = df[column_label].value_counts()\n",
        "  df_grpd = pd.DataFrame({'index':df_grpd.index, 'count':df_grpd.values})\n",
        "  return df_grpd"
      ],
      "metadata": {
        "id": "7v_ESjsspbW7"
      },
      "execution_count": null,
      "outputs": []
    },
    {
      "cell_type": "code",
      "source": [
        "def plot_bar_chart_from_column(df,column_label,t1):\n",
        "  df_grpd = get_count_from_column_bar(df,column_label)\n",
        "  fig,ax = plt.subplots(figsize = (10,6))\n",
        "  c = ['green','blue','red','yellow','brown']\n",
        "  ax.bar(df_grpd['index'],df_grpd['count'],width = 0.4,align = 'edge',edgecolor = 'black',linewidth = 4 ,color = c,linestyle = ':',alpha = 0.5)\n",
        "  plt.title(t1,bbox= {'facecolor':'0.8','pad':3})\n",
        "  plt.legend()\n",
        "  # plt.xlabel(column_label)\n",
        "  plt.ylabel('count')\n",
        "  plt.xticks(rotation = 15)\n",
        "  plt.show()\n",
        "\n"
      ],
      "metadata": {
        "id": "MTnQaDhPz21y"
      },
      "execution_count": null,
      "outputs": []
    },
    {
      "cell_type": "code",
      "source": [
        "# chart - 1 visulization code\n",
        "def get_count_from_column(df,column_label):\n",
        "  df_grpd = df[column_label].value_counts()\n",
        "  df_grpd = pd.DataFrame({'index':df_grpd.index, 'count':df_grpd.values})\n",
        "  return df_grpd"
      ],
      "metadata": {
        "id": "GTiOk36-025I"
      },
      "execution_count": null,
      "outputs": []
    },
    {
      "cell_type": "code",
      "source": [
        "#plot the pie chart from grouped data\n",
        "def plot_pie_chart_from_column(df,column_label,t1,exp):\n",
        "  df_grpd = get_count_from_column(df,column_label)\n",
        "  fig,ax = plt.subplots(figsize = (14,6))\n",
        "  ax.pie(df_grpd.loc[:,'count'],labels = df_grpd.loc[:,'index'],autopct = '%1.2f%%',startangle = 90 ,labeldistance = 1.2,explode = exp)\n",
        "  plt.title(t1,bbox={'facecolor':'0.8','pad':5})\n",
        "  ax.axis('equal')\n",
        "  plt.legend()\n",
        "  plt.show()"
      ],
      "metadata": {
        "id": "97izWAl-1J4h"
      },
      "execution_count": null,
      "outputs": []
    },
    {
      "cell_type": "code",
      "source": [
        "exp1 = [0.05,0.05]\n",
        "plot_pie_chart_from_column(df,'hotel','Booking Percentage of Hotel By Name',exp1)"
      ],
      "metadata": {
        "id": "aWoU5RuZ2gE4"
      },
      "execution_count": null,
      "outputs": []
    },
    {
      "cell_type": "markdown",
      "source": [
        "##### 1. Why did you pick the specific chart?"
      ],
      "metadata": {
        "id": "K5QZ13OEpz2H"
      }
    },
    {
      "cell_type": "markdown",
      "source": [
        "I think this is the best chart to present the data in which hotel more booking have been done"
      ],
      "metadata": {
        "id": "XESiWehPqBRc"
      }
    },
    {
      "cell_type": "markdown",
      "source": [
        "##### 2. What is/are the insight(s) found from the chart?"
      ],
      "metadata": {
        "id": "lQ7QKXXCp7Bj"
      }
    },
    {
      "cell_type": "markdown",
      "source": [
        "Here, we found that the booking number is Higher in the city hotel which is 61.13% than resort hotel which is 38.87%.So we can say that City hotel has more consumption"
      ],
      "metadata": {
        "id": "C_j1G7yiqdRP"
      }
    },
    {
      "cell_type": "markdown",
      "source": [
        "##### 3. Will the gained insights help creating a positive business impact?\n",
        "Are there any insights that lead to negative growth? Justify with specific reason."
      ],
      "metadata": {
        "id": "448CDAPjqfQr"
      }
    },
    {
      "cell_type": "markdown",
      "source": [
        "Yes for both hotel this data making a positive usiness impect : -\n",
        "\n",
        "City hotel - provided more services to attract more guest to increase more revenue\n",
        "\n",
        "Resort hotel - Find solution to attract guest and find what city hotel did to attract guest ."
      ],
      "metadata": {
        "id": "3cspy4FjqxJW"
      }
    },
    {
      "cell_type": "markdown",
      "source": [
        "#### Chart - 2"
      ],
      "metadata": {
        "id": "KSlN3yHqYklG"
      }
    },
    {
      "cell_type": "code",
      "source": [
        "# Chart - 2 visualization code\n",
        "exp2 = [0,0.1]\n",
        "plot_pie_chart_from_column(df,'is_canceled','Cancellation Volume of Hotel',exp2)"
      ],
      "metadata": {
        "id": "R4YgtaqtYklH"
      },
      "execution_count": null,
      "outputs": []
    },
    {
      "cell_type": "markdown",
      "source": [
        "##### 1. Why did you pick the specific chart?"
      ],
      "metadata": {
        "id": "t6dVpIINYklI"
      }
    },
    {
      "cell_type": "markdown",
      "source": [
        "I think this is the best chart which i can use to show the cancellation rate of the hotels booking"
      ],
      "metadata": {
        "id": "5aaW0BYyYklI"
      }
    },
    {
      "cell_type": "markdown",
      "source": [
        "##### 2. What is/are the insight(s) found from the chart?"
      ],
      "metadata": {
        "id": "ijmpgYnKYklI"
      }
    },
    {
      "cell_type": "markdown",
      "source": [
        "Here ,I found that overall more then 25% of booking got cancelled"
      ],
      "metadata": {
        "id": "PSx9atu2YklI"
      }
    },
    {
      "cell_type": "markdown",
      "source": [
        "##### 3. Will the gained insights help creating a positive business impact?\n",
        "Are there any insights that lead to negative growth? Justify with specific reason."
      ],
      "metadata": {
        "id": "-JiQyfWJYklI"
      }
    },
    {
      "cell_type": "markdown",
      "source": [
        "Here  i can say that more then 27% of booking getting cancelled .\n",
        "\n",
        "Solution = We can check the reason of cancellation of booking & and need to get this sort on business level"
      ],
      "metadata": {
        "id": "BcBbebzrYklV"
      }
    },
    {
      "cell_type": "markdown",
      "source": [
        "#### Chart - 3"
      ],
      "metadata": {
        "id": "EM7whBJCYoAo"
      }
    },
    {
      "cell_type": "code",
      "source": [
        "# Chart - 3 visualization code\n",
        "plot_bar_chart_from_column(df,'distribution_channel','Distribution Channel Volume')"
      ],
      "metadata": {
        "id": "t6GMdE67YoAp"
      },
      "execution_count": null,
      "outputs": []
    },
    {
      "cell_type": "markdown",
      "source": [
        "##### 1. Why did you pick the specific chart?"
      ],
      "metadata": {
        "id": "fge-S5ZAYoAp"
      }
    },
    {
      "cell_type": "markdown",
      "source": [
        "I think this is chart is best for showing that maximum volume done throught by which which channel to represent the number in descending order ."
      ],
      "metadata": {
        "id": "5dBItgRVYoAp"
      }
    },
    {
      "cell_type": "markdown",
      "source": [
        "##### 2. What is/are the insight(s) found from the chart?"
      ],
      "metadata": {
        "id": "85gYPyotYoAp"
      }
    },
    {
      "cell_type": "markdown",
      "source": [
        "As we can see the TA/TO(Tour of Agent & Tour of operator) is highest ,reommending the to countinue booking throught TA/TO"
      ],
      "metadata": {
        "id": "4jstXR6OYoAp"
      }
    },
    {
      "cell_type": "markdown",
      "source": [
        "##### 3. Will the gained insights help creating a positive business impact?\n",
        "Are there any insights that lead to negative growth? Justify with specific reason."
      ],
      "metadata": {
        "id": "RoGjAbkUYoAp"
      }
    },
    {
      "cell_type": "markdown",
      "source": [
        "Yes this shows positive business impact .\n",
        "\n",
        "Higher the number of TA/TO will help to increase the revenue generation of hotel"
      ],
      "metadata": {
        "id": "zfJ8IqMcYoAp"
      }
    },
    {
      "cell_type": "markdown",
      "source": [
        "#### Chart - 4"
      ],
      "metadata": {
        "id": "4Of9eVA-YrdM"
      }
    },
    {
      "cell_type": "code",
      "source": [
        "# Chart - 4 visualization code\n",
        "exp3 = [0.2,0,0,0,0,0,0,0,0,0,0,0]\n",
        "plot_pie_chart_from_column(df,'arrival_date_month','Month-wise booking',exp3)"
      ],
      "metadata": {
        "id": "irlUoxc8YrdO"
      },
      "execution_count": null,
      "outputs": []
    },
    {
      "cell_type": "code",
      "source": [],
      "metadata": {
        "id": "-odx72y0g48U"
      },
      "execution_count": null,
      "outputs": []
    },
    {
      "cell_type": "markdown",
      "source": [
        "##### 1. Why did you pick the specific chart?"
      ],
      "metadata": {
        "id": "iky9q4vBYrdO"
      }
    },
    {
      "cell_type": "markdown",
      "source": [
        "This will usefull and easy to understand .Here we are showing the percentage of booking in each month ,on oerall data"
      ],
      "metadata": {
        "id": "aJRCwT6DYrdO"
      }
    },
    {
      "cell_type": "markdown",
      "source": [
        "##### 2. What is/are the insight(s) found from the chart?"
      ],
      "metadata": {
        "id": "F6T5p64dYrdO"
      }
    },
    {
      "cell_type": "markdown",
      "source": [
        "This shows that the lowest booking we get in january but the higest peak of booking is in may,july and august there can be for holidays reason .I suggest to do more of advertise at this time to get such a profitable output ."
      ],
      "metadata": {
        "id": "Xx8WAJvtYrdO"
      }
    },
    {
      "cell_type": "markdown",
      "source": [
        "##### 3. Will the gained insights help creating a positive business impact?\n",
        "Are there any insights that lead to negative growth? Justify with specific reason."
      ],
      "metadata": {
        "id": "y-Ehk30pYrdP"
      }
    },
    {
      "cell_type": "markdown",
      "source": [
        "Yes , with increased volume of customer will help the hotels to manage the revenue at them down time ,this will also help to customer setisfaction ."
      ],
      "metadata": {
        "id": "jLNxxz7MYrdP"
      }
    },
    {
      "cell_type": "markdown",
      "source": [
        "#### Chart - 5"
      ],
      "metadata": {
        "id": "bamQiAODYuh1"
      }
    },
    {
      "cell_type": "code",
      "source": [
        "# Chart - 5 visualization code\n",
        "exp4 = [0,0.2]\n",
        "plot_pie_chart_from_column(df,'is_repeated','Guest Reapeating Status ',exp4)"
      ],
      "metadata": {
        "id": "TIJwrbroYuh3"
      },
      "execution_count": null,
      "outputs": []
    },
    {
      "cell_type": "code",
      "source": [],
      "metadata": {
        "id": "Qm0Hdj0ajIhT"
      },
      "execution_count": null,
      "outputs": []
    },
    {
      "cell_type": "markdown",
      "source": [
        "##### 1. Why did you pick the specific chart?"
      ],
      "metadata": {
        "id": "QHF8YVU7Yuh3"
      }
    },
    {
      "cell_type": "markdown",
      "source": [
        "It is easy to understand by this chart that the largest part of this circle is non repeated and the smalles one is for repeated ."
      ],
      "metadata": {
        "id": "dcxuIMRPYuh3"
      }
    },
    {
      "cell_type": "markdown",
      "source": [
        "##### 2. What is/are the insight(s) found from the chart?"
      ],
      "metadata": {
        "id": "GwzvFGzlYuh3"
      }
    },
    {
      "cell_type": "markdown",
      "source": [
        "Here we can see the number of repeates customer is very less to compare with the non-repeated customers .Only 3.91% customers are in repeated customer and insted of this all customers are doing visit first time ."
      ],
      "metadata": {
        "id": "uyqkiB8YYuh3"
      }
    },
    {
      "cell_type": "markdown",
      "source": [
        "##### 3. Will the gained insights help creating a positive business impact?\n",
        "Are there any insights that lead to negative growth? Justify with specific reason."
      ],
      "metadata": {
        "id": "qYpmQ266Yuh3"
      }
    },
    {
      "cell_type": "markdown",
      "source": [
        "The hotel can open a vaoucher or any exieting offer for non repeative customers for getting best review's and also it will help to increase there revenue amount ."
      ],
      "metadata": {
        "id": "_WtzZ_hCYuh4"
      }
    },
    {
      "cell_type": "markdown",
      "source": [
        "#### Chart - 6"
      ],
      "metadata": {
        "id": "OH-pJp9IphqM"
      }
    },
    {
      "cell_type": "code",
      "source": [
        "# Chart - 6 visualization code\n",
        "plot_bar_chart_from_column(df,'assigned_room_type','Assigned Room Type')"
      ],
      "metadata": {
        "id": "kuRf4wtuphqN"
      },
      "execution_count": null,
      "outputs": []
    },
    {
      "cell_type": "markdown",
      "source": [
        "##### 1. Why did you pick the specific chart?"
      ],
      "metadata": {
        "id": "bbFf2-_FphqN"
      }
    },
    {
      "cell_type": "markdown",
      "source": [
        "To show distribution by volume ,which room is alotted to the customers maximum time"
      ],
      "metadata": {
        "id": "loh7H2nzphqN"
      }
    },
    {
      "cell_type": "markdown",
      "source": [
        "##### 2. What is/are the insight(s) found from the chart?"
      ],
      "metadata": {
        "id": "_ouA3fa0phqN"
      }
    },
    {
      "cell_type": "markdown",
      "source": [
        "By this chart we can see the room 'A' is much preferd by the customers ."
      ],
      "metadata": {
        "id": "VECbqPI7phqN"
      }
    },
    {
      "cell_type": "markdown",
      "source": [
        "##### 3. Will the gained insights help creating a positive business impact?\n",
        "Are there any insights that lead to negative growth? Justify with specific reason."
      ],
      "metadata": {
        "id": "Seke61FWphqN"
      }
    },
    {
      "cell_type": "markdown",
      "source": [
        "Yes, becouse hotel can take this in a business profitable way. They can provide same services and mosture to others room to get a profitable revenue ."
      ],
      "metadata": {
        "id": "DW4_bGpfphqN"
      }
    },
    {
      "cell_type": "markdown",
      "source": [
        "#### Chart - 7"
      ],
      "metadata": {
        "id": "PIIx-8_IphqN"
      }
    },
    {
      "cell_type": "code",
      "source": [
        "# Chart - 7 visualization code\n",
        "market_segment_df = pd.DataFrame(df['market_segment'])\n",
        "market_segment_data = market_segment_df.groupby('market_segment')['market_segment'].count()\n",
        "market_segment_data.sort_values(ascending = False,inplace = True)\n",
        "plt.figure(figsize = (14,6))\n",
        "y = np.array([4,5,6])\n",
        "market_segment_data.plot(kind = 'bar',color = ['r','g','y','b','pink','black','brown'],fontsize = 20, legend = 'True')\n"
      ],
      "metadata": {
        "id": "lqAIGUfyphqO"
      },
      "execution_count": null,
      "outputs": []
    },
    {
      "cell_type": "code",
      "source": [],
      "metadata": {
        "id": "feI4LV60m2Yg"
      },
      "execution_count": null,
      "outputs": []
    },
    {
      "cell_type": "markdown",
      "source": [
        "##### 1. Why did you pick the specific chart?"
      ],
      "metadata": {
        "id": "t27r6nlMphqO"
      }
    },
    {
      "cell_type": "markdown",
      "source": [
        "In this chart ,we can see that market segment by which hotel has booked ."
      ],
      "metadata": {
        "id": "iv6ro40sphqO"
      }
    },
    {
      "cell_type": "markdown",
      "source": [
        "##### 2. What is/are the insight(s) found from the chart?"
      ],
      "metadata": {
        "id": "r2jJGEOYphqO"
      }
    },
    {
      "cell_type": "markdown",
      "source": [
        "Online TA has been the most frequently to book hotel by the customers"
      ],
      "metadata": {
        "id": "Po6ZPi4hphqO"
      }
    },
    {
      "cell_type": "markdown",
      "source": [
        "##### 3. Will the gained insights help creating a positive business impact?\n",
        "Are there any insights that lead to negative growth? Justify with specific reason."
      ],
      "metadata": {
        "id": "b0JNsNcRphqO"
      }
    },
    {
      "cell_type": "markdown",
      "source": [
        "Yes , This generate a positive business impact ,that the owners can see the online platform is the best way the the customers are using , they can increase there online approach also customer can see the online website is trutable and they can easly get any information or can book the room by this ."
      ],
      "metadata": {
        "id": "xvSq8iUTphqO"
      }
    },
    {
      "cell_type": "markdown",
      "source": [
        "#### Chart - 8"
      ],
      "metadata": {
        "id": "BZR9WyysphqO"
      }
    },
    {
      "cell_type": "code",
      "source": [
        "# Chart - 8 visualization code\n",
        "guest_country_wise = pd.DataFrame(df[['country','total_guest']])\n",
        "guest_country_wise_data = guest_country_wise.groupby('country')['total_guest'].sum()\n",
        "guest_country_wise_data.sort_values(ascending = False,inplace = True)\n",
        "top_10_country_guest = guest_country_wise_data.head(10)\n",
        "top_10_country_guest"
      ],
      "metadata": {
        "id": "TdPTWpAVphqO"
      },
      "execution_count": null,
      "outputs": []
    },
    {
      "cell_type": "code",
      "source": [
        "plt.figure(figsize = (12,6))\n",
        "sns.barplot(x = top_10_country_guest.index,y = top_10_country_guest).set(title = \"Top 10 countries by guest \")\n",
        "print(\"Top 10 countries by guest\")\n",
        "print(\"PRT = Portugal\")\n",
        "print(\"GBR = Great Britain & Northern Ireland\")\n",
        "print(\"FRA = France\")\n",
        "print(\"ESP = Spain\")\n",
        "print(\"DEU = Germany\")\n",
        "print(\"ITA = Italy\")\n",
        "print(\"IRL = Ireland\")\n",
        "print(\"BRA = Brazil\")\n",
        "print(\"BEL = Belgium\")\n",
        "print(\"NOR = Norway\")"
      ],
      "metadata": {
        "id": "n2ewiu64pEpp"
      },
      "execution_count": null,
      "outputs": []
    },
    {
      "cell_type": "markdown",
      "source": [
        "##### 1. Why did you pick the specific chart?"
      ],
      "metadata": {
        "id": "jj7wYXLtphqO"
      }
    },
    {
      "cell_type": "markdown",
      "source": [
        "To show a chart which containes the data of customers belongs to top 10 counries"
      ],
      "metadata": {
        "id": "Ob8u6rCTphqO"
      }
    },
    {
      "cell_type": "markdown",
      "source": [
        "##### 2. What is/are the insight(s) found from the chart?"
      ],
      "metadata": {
        "id": "eZrbJ2SmphqO"
      }
    },
    {
      "cell_type": "markdown",
      "source": [
        "As we can see the most of customers are from Portugal, so majority country is Portugal"
      ],
      "metadata": {
        "id": "mZtgC_hjphqO"
      }
    },
    {
      "cell_type": "markdown",
      "source": [
        "##### 3. Will the gained insights help creating a positive business impact?\n",
        "Are there any insights that lead to negative growth? Justify with specific reason."
      ],
      "metadata": {
        "id": "rFu4xreNphqO"
      }
    },
    {
      "cell_type": "markdown",
      "source": [
        "To increase the number of customers , we can give any offer to customer belongs to portugal , or we can apply some of cultural program for them in activities to get a positive review from these customers ."
      ],
      "metadata": {
        "id": "ey_0qi68phqO"
      }
    },
    {
      "cell_type": "markdown",
      "source": [
        "#### Chart - 9"
      ],
      "metadata": {
        "id": "YJ55k-q6phqO"
      }
    },
    {
      "cell_type": "code",
      "source": [
        "# Chart - 9 visualization code\n",
        "average_adr = df.groupby('hotel')['adr'].mean()\n",
        "average_adr"
      ],
      "metadata": {
        "id": "B2aS4O1ophqO"
      },
      "execution_count": null,
      "outputs": []
    },
    {
      "cell_type": "code",
      "source": [
        "plt.subplots(figsize = (8,5))\n",
        "average_adr.plot(kind = 'bar',color = ['r','g'],fontsize = 10)\n",
        "plt.xlabel('Average ADR')\n",
        "plt.ylabel(\"Hotel Name\")\n",
        "plt.title(\"Average ADR of Hotel\")\n"
      ],
      "metadata": {
        "id": "9OC3nebdrL6b"
      },
      "execution_count": null,
      "outputs": []
    },
    {
      "cell_type": "markdown",
      "source": [
        "##### 1. Why did you pick the specific chart?"
      ],
      "metadata": {
        "id": "gCFgpxoyphqP"
      }
    },
    {
      "cell_type": "markdown",
      "source": [
        "To show the bothe the hotels (hotel and resorts ) average adr ."
      ],
      "metadata": {
        "id": "TVxDimi2phqP"
      }
    },
    {
      "cell_type": "markdown",
      "source": [
        "##### 2. What is/are the insight(s) found from the chart?"
      ],
      "metadata": {
        "id": "OVtJsKN_phqQ"
      }
    },
    {
      "cell_type": "markdown",
      "source": [
        "here we can see the city hotels have maxixmum average of ADR compares to Resort hotel . And ADR is basically revenue ."
      ],
      "metadata": {
        "id": "ngGi97qjphqQ"
      }
    },
    {
      "cell_type": "markdown",
      "source": [
        "##### 3. Will the gained insights help creating a positive business impact?\n",
        "Are there any insights that lead to negative growth? Justify with specific reason."
      ],
      "metadata": {
        "id": "lssrdh5qphqQ"
      }
    },
    {
      "cell_type": "markdown",
      "source": [
        "Yes, I think there could be a reason ,may be the customer are prefering the room in budget , or may be its based on facilities so resort hotel can change some of things to et a higher customer references ."
      ],
      "metadata": {
        "id": "tBpY5ekJphqQ"
      }
    },
    {
      "cell_type": "markdown",
      "source": [
        "#### Chart - 10"
      ],
      "metadata": {
        "id": "U2RJ9gkRphqQ"
      }
    },
    {
      "cell_type": "code",
      "source": [
        "# Chart - 10 visualization code\n",
        "plt.figure(figsize = (8,5))\n",
        "hotel_wise_revenue  =df.groupby('hotel')['revenue'].sum()\n",
        "ax = hotel_wise_revenue.plot(kind = 'bar',color = ('blue','green'))\n",
        "plt.xlabel(\"Hotel\")\n",
        "plt.ylabel(\"Total Revenue\")\n",
        "plt.title(\"Total Revenue of Hotels\")"
      ],
      "metadata": {
        "id": "GM7a4YP4phqQ"
      },
      "execution_count": null,
      "outputs": []
    },
    {
      "cell_type": "markdown",
      "source": [
        "##### 1. Why did you pick the specific chart?"
      ],
      "metadata": {
        "id": "1M8mcRywphqQ"
      }
    },
    {
      "cell_type": "markdown",
      "source": [
        "To directly show the revenue ."
      ],
      "metadata": {
        "id": "8agQvks0phqQ"
      }
    },
    {
      "cell_type": "markdown",
      "source": [
        "##### 2. What is/are the insight(s) found from the chart?"
      ],
      "metadata": {
        "id": "tgIPom80phqQ"
      }
    },
    {
      "cell_type": "markdown",
      "source": [
        "In previous chart as we showed the ADR of each hotel ,Here we tried to show the direct revenue of each hotel ,and we can see the city hotels revenue is more than resort hotel .\n"
      ],
      "metadata": {
        "id": "Qp13pnNzphqQ"
      }
    },
    {
      "cell_type": "markdown",
      "source": [
        "##### 3. Will the gained insights help creating a positive business impact?\n",
        "Are there any insights that lead to negative growth? Justify with specific reason."
      ],
      "metadata": {
        "id": "JMzcOPDDphqR"
      }
    },
    {
      "cell_type": "markdown",
      "source": [
        "Yes , they can make some changes to compare the hotels to get a profitable output ."
      ],
      "metadata": {
        "id": "R4Ka1PC2phqR"
      }
    },
    {
      "cell_type": "markdown",
      "source": [
        "#### Chart - 11"
      ],
      "metadata": {
        "id": "x-EpHcCOp1ci"
      }
    },
    {
      "cell_type": "code",
      "source": [
        "# Chart - 11 visualization code\n",
        "# we can show the chart about the most preferwd meal by customers\n",
        "plt.figure(figsize = (12,5),dpi = 100 )\n",
        "hotel__wise_meal = df.groupby(['hotel','meal'])['meal'].count().unstack()\n",
        "hotel__wise_meal.plot(kind = 'bar',figsize = (12,5))\n",
        "plt.xlabel('Meal')\n",
        "plt.ylabel('Count')\n",
        "plt.title('Most Prefered Meal by Customers')\n",
        "plt.legend()\n",
        "hotel__wise_meal"
      ],
      "metadata": {
        "id": "mAQTIvtqp1cj"
      },
      "execution_count": null,
      "outputs": []
    },
    {
      "cell_type": "markdown",
      "source": [
        "##### 1. Why did you pick the specific chart?"
      ],
      "metadata": {
        "id": "X_VqEhTip1ck"
      }
    },
    {
      "cell_type": "markdown",
      "source": [
        "We use this chart to show the meal which is most prefered by cutomers in each hotel."
      ],
      "metadata": {
        "id": "-vsMzt_np1ck"
      }
    },
    {
      "cell_type": "markdown",
      "source": [
        "##### 2. What is/are the insight(s) found from the chart?"
      ],
      "metadata": {
        "id": "8zGJKyg5p1ck"
      }
    },
    {
      "cell_type": "markdown",
      "source": [
        "we can see the bb meal is much prefered by customer n both of hotels but when it comes to compare the hotel the city hotel have greater preferd customer insted of resort hotel ."
      ],
      "metadata": {
        "id": "ZYdMsrqVp1ck"
      }
    },
    {
      "cell_type": "markdown",
      "source": [
        "##### 3. Will the gained insights help creating a positive business impact?\n",
        "Are there any insights that lead to negative growth? Justify with specific reason."
      ],
      "metadata": {
        "id": "PVzmfK_Ep1ck"
      }
    },
    {
      "cell_type": "markdown",
      "source": [
        "Yes ,this chart can help to see the choice of preferd meal by customers , they can analyst this and make certain decision to get a profitable growth on their business ."
      ],
      "metadata": {
        "id": "druuKYZpp1ck"
      }
    },
    {
      "cell_type": "markdown",
      "source": [
        "#### Chart - 12 - Correlation Heatmap"
      ],
      "metadata": {
        "id": "NC_X3p0fY2L0"
      }
    },
    {
      "cell_type": "code",
      "source": [
        "# Correlation Heatmap visualization code\n",
        "corr_df = df[['lead_time','previous_cancellations','previous_bookings_not_canceled','total_guest','days_in_waiting_list','adr','required_car_parking_spaces','total_of_special_requests','booking_changes']].corr()\n",
        "f,ax = plt.subplots(figsize = (8,10))\n",
        "sns.heatmap(corr_df,annot = True ,fmt = '.2f',annot_kws = {'size': 10},vmax = 1,square = True,cmap = \"YlGnBu\")\n"
      ],
      "metadata": {
        "id": "xyC9zolEZNRQ"
      },
      "execution_count": null,
      "outputs": []
    },
    {
      "cell_type": "code",
      "source": [],
      "metadata": {
        "id": "n0nRG1mhYOne"
      },
      "execution_count": null,
      "outputs": []
    },
    {
      "cell_type": "markdown",
      "source": [
        "##### 1. Why did you pick the specific chart?"
      ],
      "metadata": {
        "id": "UV0SzAkaZNRQ"
      }
    },
    {
      "cell_type": "markdown",
      "source": [
        "To show the correlation between numeric variables that the data set containes ."
      ],
      "metadata": {
        "id": "DVPuT8LYZNRQ"
      }
    },
    {
      "cell_type": "markdown",
      "source": [
        "##### 2. What is/are the insight(s) found from the chart?"
      ],
      "metadata": {
        "id": "YPEH6qLeZNRQ"
      }
    },
    {
      "cell_type": "markdown",
      "source": [
        "In this chart the highest correlation is 0.39 % and the lowest correlation is -0.9% .\n"
      ],
      "metadata": {
        "id": "bfSqtnDqZNRR"
      }
    },
    {
      "cell_type": "markdown",
      "source": [
        "## **5. Solution to Business Objective**"
      ],
      "metadata": {
        "id": "JcMwzZxoAimU"
      }
    },
    {
      "cell_type": "markdown",
      "source": [
        "#### What do you suggest the client to achieve Business Objective ?\n"
      ],
      "metadata": {
        "id": "8G2x9gOozGDZ"
      }
    },
    {
      "cell_type": "markdown",
      "source": [
        "We can see here most of the following things .\n",
        "**1**. = By using the pie chart we can demonstrate the customer which month generate the most money .\n",
        "\n",
        "**2**. = Increasing revenue by using a bar chart to show which type of rooms are most frequently booked and when visitors are most likely to travel.\n",
        "\n",
        "**3**. = By doing comparison in between City Hotel and Resort Hotel customer can see the diffrence between them and also can take the right decision for where they gonna stay with , will they setisfy with that hotel in which they planning to stay .\n",
        "\n",
        "**4**. = We showed that the guest country By this customer can see that the enirnment they gonna see is portugal country with other people , and owners can see they can do apply some of offres to most visited guest's country for getting a better rivew . To get a such as nice profitable output .\n",
        "\n",
        "**5**. = As a result,the customer can be properly prepared in advance,minimising long-term complaints and contributing to further improvement of their hospitality.\n",
        "\n",
        "etc"
      ],
      "metadata": {
        "id": "pASKb0qOza21"
      }
    },
    {
      "cell_type": "markdown",
      "source": [
        "# **Conclusion**"
      ],
      "metadata": {
        "id": "gCX9965dhzqZ"
      }
    },
    {
      "cell_type": "markdown",
      "source": [
        "1 = City hotel genrates more income and profit and get them selves more popular in travellars.\n",
        "\n",
        "2= Compared to the other months ,the majority is reservation are made in july and august .\n",
        "\n",
        "3= travellars perfer the online TA compares to the other way to get a booking .\n",
        "\n",
        "4 = Portugal and UK are the most popular country from where they are having guest.\n",
        "\n",
        "5 = The most of the customers prefers to stay in City Hotels .\n",
        "\n",
        "6 = Compare to the returning cutomers ,new guest are frequently cancle the reservation.\n",
        "\n",
        "etc"
      ],
      "metadata": {
        "id": "Fjb1IsQkh3yE"
      }
    },
    {
      "cell_type": "markdown",
      "source": [
        "### ***Hurrah! You have successfully completed your EDA Capstone Project !!!***"
      ],
      "metadata": {
        "id": "gIfDvo9L0UH2"
      }
    }
  ]
}